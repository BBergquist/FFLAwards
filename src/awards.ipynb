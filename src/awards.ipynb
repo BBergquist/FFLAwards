{
 "cells": [
  {
   "cell_type": "code",
   "execution_count": null,
   "metadata": {},
   "outputs": [],
   "source": [
    "# Usage: https://github.com/cwendt94/espn-api/wiki/Football-Intro\n",
    "from espn_api.football import League, Team, BoxPlayer\n",
    "from espn_api.football.box_score import BoxScore\n",
    "from statistics import stdev\n",
    "import tabulate\n",
    "\n",
    "TEAM_POSITIONS = ['QB', 'RB', 'RB', 'WR', 'WR', 'TE', 'RB/WR/TE', 'RB/WR/TE', 'K', 'D/ST']"
   ]
  },
  {
   "cell_type": "code",
   "execution_count": null,
   "metadata": {},
   "outputs": [],
   "source": [
    "# private league with cookies\n",
    "cookie = '<cookie>'\n",
    "swid = '<swid>'\n",
    "league_id=0\n",
    "league = League(league_id=league_id, year=2023, espn_s2=cookie, swid=swid)"
   ]
  },
  {
   "cell_type": "code",
   "execution_count": null,
   "metadata": {},
   "outputs": [],
   "source": [
    "week = 13\n",
    "box_scores = league.box_scores(week)"
   ]
  },
  {
   "cell_type": "code",
   "execution_count": null,
   "metadata": {},
   "outputs": [],
   "source": [
    "# functions to write\n",
    "# Put me in, coach (least optimal line up OR highest single bench scorer) OR The Replacements (highest scoring bench)\n",
    "# Risk it for the biscuit (starting an unlikely starter (<10% start?) and getting rewarded w/ an overperformance)\n",
    "\n",
    "# Once you have a base-line of 4 weeks:\n",
    "# \"Get dunked on\" or \"Worldstar-Certified Beatdown\" - set the record for worst margin of defeat\n",
    "\n",
    "# End of Season\n",
    "# team decimated by injuries? would need to look at questionable, not just IR. Or could look at ADP of drafted players who ended up on IR.\n",
    "# Draft boon, Draft bust (biggest jump b/w ADP and ROS)\n",
    "# Waiver winner, Waiver loser (largest contributor off waivers, worst $/point)\n",
    "\n",
    "\n",
    "# Improvements:\n",
    "# Dump stats into a spreadsheet. At a minimum, dump team-level stats.\n",
    "# Use pandas and do JOINS for players, also dump into spreadsheet/update it?\n",
    "    # If dumping player level information, also record transaction details (e.g., most recent transaction, draft position)"
   ]
  },
  {
   "cell_type": "code",
   "execution_count": null,
   "metadata": {},
   "outputs": [],
   "source": [
    "class Outcome:\n",
    "\n",
    "    def __init__(self, team: Team, score, projected_score, lineup: list[BoxPlayer], spread):\n",
    "        self.team = team\n",
    "        self.score = score\n",
    "        self.projected_score = projected_score\n",
    "        self.starters = [p for p in lineup if p.slot_position != \"BE\"]\n",
    "        self.starters = sorted(self.starters, key=lambda x: x.points-x.projected_points, reverse=True)\n",
    "        self.bench = [p for p in lineup if p.slot_position == \"BE\"]\n",
    "        self.bench = sorted(self.bench, key=lambda x: x.points-x.projected_points, reverse=True)\n",
    "        self.spread = spread\n",
    "        self.won_matchup = spread > 0\n",
    "        self.boom = self.starters[0]\n",
    "        self.bust = self.starters[-1]\n",
    "        self.optimal_lineup = self.get_optimal_lineup()\n",
    "        self.optimal_score = sum([p.points for p in self.optimal_lineup])\n",
    "        self.lineup_rating = self.score / self.optimal_score\n",
    "\n",
    "    def __repr__(self):\n",
    "        cls = self.__class__.__name__\n",
    "        return f\"{cls}({self.team.owner}, {self.score}, {self.projected_score})\"\n",
    "    \n",
    "    def get_optimal_lineup(self) -> list[BoxPlayer]:\n",
    "        players = [*self.starters, *self.bench]\n",
    "        lineup = []\n",
    "        for pos in TEAM_POSITIONS:\n",
    "            eligible_players = [p for p in players if pos in p.eligibleSlots]\n",
    "            try:\n",
    "                starter = sorted(eligible_players, key=lambda x: x.points, reverse=True)[0]\n",
    "                lineup.append(starter)\n",
    "                players.remove(starter)\n",
    "            except:\n",
    "                pass\n",
    "        \n",
    "        return lineup\n",
    "    \n",
    "\n",
    "def outcomes_from_box_score(box_score: BoxScore) -> list[Outcome]:\n",
    "    b = box_score\n",
    "    home_team_spread = box_score.home_score - box_score.away_score\n",
    "    return [Outcome(b.away_team, b.away_score, b.away_projected, b.away_lineup, -1 * home_team_spread),\n",
    "            Outcome(b.home_team, b.home_score, b.home_projected, b.home_lineup, home_team_spread)]\n"
   ]
  },
  {
   "cell_type": "code",
   "execution_count": null,
   "metadata": {},
   "outputs": [],
   "source": [
    "class WeeklyScores:\n",
    "    \n",
    "    def __init__(self, _box_scores: list[BoxScore]):\n",
    "        self.outcomes: list[Outcome] = []\n",
    "        for box in _box_scores:\n",
    "            self.outcomes += outcomes_from_box_score(box)\n",
    "        \n",
    "        self.outcomes = sorted(self.outcomes, key=lambda o: o.score)\n",
    "        self._set_all_players()\n",
    "\n",
    "    def gotta_be_cheating(self) -> bool:\n",
    "        scores = sorted([o.score for o in self.outcomes])\n",
    "        top_score = scores[-1]\n",
    "        next_best = scores[-2]\n",
    "        return stdev(scores) < top_score - next_best\n",
    "\n",
    "    def hot_garbage(self) -> bool:\n",
    "        scores = sorted([o.score for o in self.outcomes])\n",
    "        low_score = scores[0]\n",
    "        next_worst = scores[1]\n",
    "        return stdev(scores) < next_worst - low_score\n",
    "    \n",
    "    def format_outcomes(self) -> str:\n",
    "        table = [[o.team.owner, o.score, o.optimal_score, o.lineup_rating, o.won_matchup, o.spread] for o in self.outcomes]\n",
    "        return tabulate.tabulate(table,\n",
    "                                 tablefmt=\"html\",\n",
    "                                 headers=[\"Owner\", \"Score\", \"OptimalScore\", \"LineupRating\", \"Won?\", \"Spread\"])\n",
    "    \n",
    "    def format_all_players(self) -> str:\n",
    "        table = [[p, p.points, p.outcome.team.owner,\n",
    "                  p.outcome.won_matchup,\n",
    "                  p.slot_position == \"BE\"] for p in self.all_players]\n",
    "        table = sorted(table, key=lambda x: x[1], reverse=True)\n",
    "        return tabulate.tabulate(table[:50],\n",
    "                                 tablefmt=\"html\",\n",
    "                                 headers=[\"Player\", \"Points\", \"Owner\", \"Won?\", \"Benched?\"],\n",
    "                                 showindex=True)\n",
    "    \n",
    "    def format_busts(self):\n",
    "        table = [[p, p.points-p.projected_points,\n",
    "                  p.outcome.team.owner,\n",
    "                  p.outcome.won_matchup,\n",
    "                  p.slot_position == \"BE\"] for p in self.all_players]\n",
    "        return tabulate.tabulate(table[-1:-16:-1],\n",
    "                                 tablefmt=\"html\",\n",
    "                                 headers=[\"Player\", \"Bust\", \"Owner\", \"Won?\", \"Benched?\"],\n",
    "                                 showindex=True)\n",
    "    \n",
    "    def format_booms(self):\n",
    "        table = [[p, p.points-p.projected_points,\n",
    "                  p.outcome.team.owner,\n",
    "                  p.outcome.won_matchup,\n",
    "                  p.slot_position == \"BE\"] for p in self.all_players]\n",
    "        return tabulate.tabulate(table[:15],\n",
    "                                 tablefmt=\"html\",\n",
    "                                 headers=[\"Player\", \"Boom\", \"Owner\", \"Won?\", \"Benched?\"],\n",
    "                                 showindex=True)\n",
    "    \n",
    "    def _set_all_players(self):\n",
    "        all_players: list[BoxPlayer] = []\n",
    "        for outcome in self.outcomes:\n",
    "            players = [*outcome.starters, *outcome.bench]\n",
    "            for player in players:\n",
    "                player.outcome = outcome\n",
    "                all_players.append(player)\n",
    "        self.all_players = sorted(all_players,\n",
    "                                  key=lambda x: x.points - x.projected_points,\n",
    "                                  reverse=True)\n",
    "        \n",
    "\n",
    "weekly_scores = WeeklyScores(box_scores)\n"
   ]
  },
  {
   "cell_type": "code",
   "execution_count": null,
   "metadata": {},
   "outputs": [],
   "source": [
    "# Section: Overall score awards. Look for hot garbage, gotta be cheating, super salty, busch league,\n",
    "#                                         big dude, little dude, and rain man"
   ]
  },
  {
   "cell_type": "code",
   "execution_count": null,
   "metadata": {},
   "outputs": [],
   "source": [
    "weekly_scores.hot_garbage(), weekly_scores.gotta_be_cheating()"
   ]
  },
  {
   "cell_type": "code",
   "execution_count": null,
   "metadata": {},
   "outputs": [],
   "source": [
    "weekly_scores.format_outcomes()"
   ]
  },
  {
   "cell_type": "code",
   "execution_count": null,
   "metadata": {},
   "outputs": [],
   "source": [
    "# Section: player awards. Look for Put me in Coach, he's awful my dude, beast mode"
   ]
  },
  {
   "cell_type": "code",
   "execution_count": null,
   "metadata": {},
   "outputs": [],
   "source": [
    "weekly_scores.format_all_players()"
   ]
  },
  {
   "cell_type": "code",
   "execution_count": null,
   "metadata": {},
   "outputs": [],
   "source": [
    "weekly_scores.format_busts()"
   ]
  },
  {
   "cell_type": "code",
   "execution_count": null,
   "metadata": {},
   "outputs": [],
   "source": [
    "weekly_scores.format_booms()"
   ]
  }
 ],
 "metadata": {
  "kernelspec": {
   "display_name": "Python 3",
   "language": "python",
   "name": "python3"
  },
  "language_info": {
   "codemirror_mode": {
    "name": "ipython",
    "version": 3
   },
   "file_extension": ".py",
   "mimetype": "text/x-python",
   "name": "python",
   "nbconvert_exporter": "python",
   "pygments_lexer": "ipython3",
   "version": "3.10.12"
  },
  "orig_nbformat": 4
 },
 "nbformat": 4,
 "nbformat_minor": 2
}
